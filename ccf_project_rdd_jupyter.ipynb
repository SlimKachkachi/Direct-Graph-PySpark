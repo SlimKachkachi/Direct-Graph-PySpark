{
 "cells": [
  {
   "cell_type": "code",
   "execution_count": 2,
   "id": "e4997c13",
   "metadata": {},
   "outputs": [],
   "source": [
    "import os"
   ]
  },
  {
   "cell_type": "code",
   "execution_count": 5,
   "id": "3e0bb6d3",
   "metadata": {},
   "outputs": [
    {
     "name": "stderr",
     "output_type": "stream",
     "text": [
      "Setting default log level to \"WARN\".\n",
      "To adjust logging level use sc.setLogLevel(newLevel). For SparkR, use setLogLevel(newLevel).\n"
     ]
    },
    {
     "name": "stdout",
     "output_type": "stream",
     "text": [
      "22/10/15 22:25:02 WARN NativeCodeLoader: Unable to load native-hadoop library for your platform... using builtin-java classes where applicable\n"
     ]
    }
   ],
   "source": [
    "import pyspark\n",
    "import time\n",
    "sc = pyspark.SparkContext(appName=\"Spark_RDD\")"
   ]
  },
  {
   "cell_type": "code",
   "execution_count": 6,
   "id": "6f031a13",
   "metadata": {},
   "outputs": [
    {
     "data": {
      "text/plain": [
       "'/Users/slimkachkachi'"
      ]
     },
     "execution_count": 6,
     "metadata": {},
     "output_type": "execute_result"
    }
   ],
   "source": [
    "os.getcwd()"
   ]
  },
  {
   "cell_type": "code",
   "execution_count": 13,
   "id": "de1c5cb3",
   "metadata": {},
   "outputs": [],
   "source": [
    "def reducer(x):\n",
    "    key=x[0]\n",
    "    values=x[1]\n",
    "    min=key\n",
    "    valuesList=[]\n",
    "    listoutput=[]\n",
    "    global newpaircounter\n",
    "    for i in values:\n",
    "        if i <min: \n",
    "            min=i\n",
    "        valuesList.append(i)\n",
    "    if min < key:\n",
    "        listoutput.append((key,min))\n",
    "        for j in valuesList:\n",
    "            if min != j:\n",
    "              listoutput.append((j,min))\n",
    "              newpaircounter.add(1)\n",
    "    return listoutput"
   ]
  },
  {
   "cell_type": "code",
   "execution_count": 24,
   "id": "059ddd90",
   "metadata": {},
   "outputs": [],
   "source": [
    "rdd_init = sc.textFile(\"/Users/slimkachkachi/Documents/IA_Dauphine/Traitement distribué données massives/Projet/Fichiers Edges/facebook_combined.txt\")\n",
    "rdd=rdd_init.map(lambda x:(x.split(' ')))"
   ]
  },
  {
   "cell_type": "code",
   "execution_count": 27,
   "id": "c9c615c4",
   "metadata": {},
   "outputs": [],
   "source": [
    "rdd_init = sc.textFile(\"/Users/slimkachkachi/Documents/IA_Dauphine/Traitement distribué données massives/Projet/Fichiers Edges/HR_edges.csv\")\n",
    "rdd=rdd_init.map(lambda x:(x.split(','))).filter(lambda x:x[0] != 'node_1')"
   ]
  },
  {
   "cell_type": "code",
   "execution_count": 30,
   "id": "8fd8766a",
   "metadata": {},
   "outputs": [],
   "source": [
    "rdd_init = sc.textFile(\"/Users/slimkachkachi/Documents/IA_Dauphine/Traitement distribué données massives/Projet/Fichiers Edges/artist_edges.csv\")\n",
    "rdd=rdd_init.filter(lambda x :x != 'node_1,node_2').map(lambda x:(x.split(',')))"
   ]
  },
  {
   "cell_type": "code",
   "execution_count": 33,
   "id": "9e93ac08",
   "metadata": {},
   "outputs": [],
   "source": [
    "rdd_init = sc.textFile(\"/Users/slimkachkachi/Documents/IA_Dauphine/Traitement distribué données massives/Projet/Fichiers Edges/web-Google.txt\")\n",
    "rdd=rdd_init.filter(lambda x:\"#\" not in x).map(lambda x:x.split(\"\\t\")).map(lambda x:(int(x[0]),int(x[1])))"
   ]
  },
  {
   "cell_type": "code",
   "execution_count": 35,
   "id": "a0c503b6",
   "metadata": {},
   "outputs": [],
   "source": [
    "rdd_init = sc.textFile(\"/Users/slimkachkachi/Documents/IA_Dauphine/Traitement distribué données massives/Projet/Fichiers Edges/large_twitch_edges.csv\")\n",
    "rdd=rdd_init.filter(lambda x :x != 'numeric_id_1,numeric_id_2').map(lambda x:(x.split(','))).map(lambda x:(int(x[0]),int(x[1])))"
   ]
  },
  {
   "cell_type": "code",
   "execution_count": 38,
   "id": "e9db0fd0",
   "metadata": {},
   "outputs": [],
   "source": [
    "rdd_init = sc.textFile(\"/Users/slimkachkachi/Documents/IA_Dauphine/Traitement distribué données massives/Projet/Fichiers Edges/soc-pokec-relationships.txt\")\n",
    "rdd=rdd_init.filter(lambda x:\"#\" not in x).map(lambda x:x.split(\"\\t\")).map(lambda x:(int(x[0]),int(x[1])))\n"
   ]
  },
  {
   "cell_type": "code",
   "execution_count": 39,
   "id": "716ea92c",
   "metadata": {},
   "outputs": [
    {
     "name": "stderr",
     "output_type": "stream",
     "text": [
      "                                                                                \r"
     ]
    },
    {
     "name": "stdout",
     "output_type": "stream",
     "text": [
      "118273064\n"
     ]
    },
    {
     "name": "stderr",
     "output_type": "stream",
     "text": [
      "                                                                                \r"
     ]
    },
    {
     "name": "stdout",
     "output_type": "stream",
     "text": [
      "148592320\n"
     ]
    },
    {
     "name": "stderr",
     "output_type": "stream",
     "text": [
      "[Stage 1620:>                                                      (0 + 8) / 13]\r"
     ]
    },
    {
     "name": "stdout",
     "output_type": "stream",
     "text": [
      "22/10/16 00:05:21 WARN HeartbeatReceiver: Removing executor driver with no recent heartbeats: 955320 ms exceeds timeout 120000 ms\n",
      "22/10/16 00:05:21 WARN SparkContext: Killing executors is not supported by current scheduler.\n"
     ]
    },
    {
     "name": "stderr",
     "output_type": "stream",
     "text": [
      "                                                                                \r"
     ]
    },
    {
     "name": "stdout",
     "output_type": "stream",
     "text": [
      "124362218\n"
     ]
    },
    {
     "name": "stderr",
     "output_type": "stream",
     "text": [
      "                                                                                \r"
     ]
    },
    {
     "name": "stdout",
     "output_type": "stream",
     "text": [
      "5689920\n"
     ]
    },
    {
     "name": "stderr",
     "output_type": "stream",
     "text": [
      "                                                                                \r"
     ]
    },
    {
     "name": "stdout",
     "output_type": "stream",
     "text": [
      "408\n"
     ]
    },
    {
     "name": "stderr",
     "output_type": "stream",
     "text": [
      "                                                                                \r"
     ]
    },
    {
     "name": "stdout",
     "output_type": "stream",
     "text": [
      "0\n",
      "arret\n",
      "c'est la fin; durée totale de : 13401.866\n"
     ]
    }
   ],
   "source": [
    "boucle = True\n",
    "t0=time.time()\n",
    "\n",
    "while boucle == True:\n",
    " \n",
    "  newpaircounter=sc.accumulator(0)\n",
    "  \n",
    "  #map du ccf\n",
    "  Map_rdd=rdd.flatMap(lambda x:(x,(x[1],x[0])))\n",
    "  \n",
    "  #fonction reduce du CCF Iterate RDD fichier de chiffres\n",
    "  Reduce_rdd=Map_rdd.groupByKey().flatMap(lambda x:reducer(x)) #.filter(lambda x:x!=None).flatMap(lambda x:x)\n",
    "  Reduce_rdd.count() \n",
    "  \n",
    "  ##suite #fonction Reduce de CFF Dedup sur base RDD liste de chiffres pour vérifier la suppression des doublons de tuples\n",
    "  rdd=Reduce_rdd.distinct().sortByKey()\n",
    "\n",
    "  print(newpaircounter.value)\n",
    "  if newpaircounter.value == 0:\n",
    "    print(\"arret\")\n",
    "    boucle = False\n",
    "\n",
    "t1=time.time()\n",
    "print(\"c'est la fin; durée totale de :\",round(t1-t0,3))\n",
    "#rdd.collect()"
   ]
  },
  {
   "cell_type": "code",
   "execution_count": 37,
   "id": "03f46c69",
   "metadata": {},
   "outputs": [
    {
     "data": {
      "text/plain": [
       "[(0, 168114)]"
      ]
     },
     "execution_count": 37,
     "metadata": {},
     "output_type": "execute_result"
    }
   ],
   "source": [
    "rdd.map(lambda x:(x[1],x[0])).groupByKey().mapValues(list).map(lambda x : (x[0], len(list(x[1]))+1)).collect()"
   ]
  },
  {
   "cell_type": "code",
   "execution_count": null,
   "id": "e2c5865e",
   "metadata": {},
   "outputs": [],
   "source": []
  }
 ],
 "metadata": {
  "kernelspec": {
   "display_name": "Python 3 (ipykernel)",
   "language": "python",
   "name": "python3"
  },
  "language_info": {
   "codemirror_mode": {
    "name": "ipython",
    "version": 3
   },
   "file_extension": ".py",
   "mimetype": "text/x-python",
   "name": "python",
   "nbconvert_exporter": "python",
   "pygments_lexer": "ipython3",
   "version": "3.9.12"
  }
 },
 "nbformat": 4,
 "nbformat_minor": 5
}
